{
 "cells": [
  {
   "cell_type": "markdown",
   "metadata": {},
   "source": [
    "## About \n",
    "This notebook demostrates usage of SGD in keras, by using SGD to find weights of a linear model. From this we can know how to define and use a linear model in 'keras'. \n",
    "\n",
    "The packages versions are :\n",
    "- Keras 2.0\n",
    "- Python 3.5.3 "
   ]
  },
  {
   "cell_type": "code",
   "execution_count": 9,
   "metadata": {
    "ExecuteTime": {
     "end_time": "2017-08-04T00:32:03.083646Z",
     "start_time": "2017-08-04T00:32:03.078342Z"
    }
   },
   "outputs": [],
   "source": [
    "import numpy as np \n",
    "from numpy.random import random"
   ]
  },
  {
   "cell_type": "code",
   "execution_count": 10,
   "metadata": {
    "ExecuteTime": {
     "end_time": "2017-08-04T00:32:03.906109Z",
     "start_time": "2017-08-04T00:32:03.899730Z"
    }
   },
   "outputs": [],
   "source": [
    "from keras.models import Sequential\n",
    "from keras.layers.core import Flatten, Dense, Dropout, Lambda\n",
    "from keras.optimizers import SGD, RMSprop, Adam"
   ]
  },
  {
   "cell_type": "code",
   "execution_count": 20,
   "metadata": {
    "ExecuteTime": {
     "end_time": "2017-08-04T00:34:33.204429Z",
     "start_time": "2017-08-04T00:34:33.194252Z"
    }
   },
   "outputs": [
    {
     "data": {
      "text/plain": [
       "array([[ 0.57323901,  0.44737088,  0.7914053 ],\n",
       "       [ 0.3208131 ,  0.62520682,  0.81063775],\n",
       "       [ 0.41021631,  0.34606475,  0.36810911],\n",
       "       [ 0.63357466,  0.66970564,  0.97875936],\n",
       "       [ 0.3594688 ,  0.73308281,  0.08270992]])"
      ]
     },
     "execution_count": 20,
     "metadata": {},
     "output_type": "execute_result"
    }
   ],
   "source": [
    "x = random((30,3))\n",
    "y = np.dot(x, [2., 3., 4.]) + 1.\n",
    "x[:5]"
   ]
  },
  {
   "cell_type": "code",
   "execution_count": 23,
   "metadata": {
    "ExecuteTime": {
     "end_time": "2017-08-04T00:34:44.017765Z",
     "start_time": "2017-08-04T00:34:43.932671Z"
    }
   },
   "outputs": [],
   "source": [
    "lm = Sequential([ Dense(1, input_shape=(3,)) ])\n",
    "lm.compile(optimizer=SGD(lr=0.1), loss='mse')"
   ]
  },
  {
   "cell_type": "code",
   "execution_count": 24,
   "metadata": {
    "ExecuteTime": {
     "end_time": "2017-08-04T00:34:44.851034Z",
     "start_time": "2017-08-04T00:34:44.764267Z"
    }
   },
   "outputs": [
    {
     "name": "stdout",
     "output_type": "stream",
     "text": [
      "30/30 [==============================] - 0s\n"
     ]
    },
    {
     "data": {
      "text/plain": [
       "42.586189270019531"
      ]
     },
     "execution_count": 24,
     "metadata": {},
     "output_type": "execute_result"
    }
   ],
   "source": [
    "lm.evaluate(x, y, verbose=1)"
   ]
  },
  {
   "cell_type": "code",
   "execution_count": 25,
   "metadata": {
    "ExecuteTime": {
     "end_time": "2017-08-04T00:34:46.704782Z",
     "start_time": "2017-08-04T00:34:46.223124Z"
    }
   },
   "outputs": [
    {
     "name": "stdout",
     "output_type": "stream",
     "text": [
      "Epoch 1/5\n",
      "30/30 [==============================] - 0s - loss: 3.7131      \n",
      "Epoch 2/5\n",
      "30/30 [==============================] - 0s - loss: 0.4835     \n",
      "Epoch 3/5\n",
      "30/30 [==============================] - 0s - loss: 0.2973     \n",
      "Epoch 4/5\n",
      "30/30 [==============================] - 0s - loss: 0.1597     \n",
      "Epoch 5/5\n",
      "30/30 [==============================] - 0s - loss: 0.0813     \n"
     ]
    },
    {
     "data": {
      "text/plain": [
       "<keras.callbacks.History at 0x7ff55103f748>"
      ]
     },
     "execution_count": 25,
     "metadata": {},
     "output_type": "execute_result"
    }
   ],
   "source": [
    "lm.fit(x, y, epochs=5, batch_size=1)"
   ]
  },
  {
   "cell_type": "code",
   "execution_count": 26,
   "metadata": {
    "ExecuteTime": {
     "end_time": "2017-08-04T00:34:47.503250Z",
     "start_time": "2017-08-04T00:34:47.492931Z"
    }
   },
   "outputs": [
    {
     "data": {
      "text/plain": [
       "[array([[ 2.05977201],\n",
       "        [ 2.55019951],\n",
       "        [ 3.3650949 ]], dtype=float32), array([ 1.76519859], dtype=float32)]"
      ]
     },
     "execution_count": 26,
     "metadata": {},
     "output_type": "execute_result"
    }
   ],
   "source": [
    "lm.get_weights()"
   ]
  },
  {
   "cell_type": "code",
   "execution_count": null,
   "metadata": {
    "collapsed": true
   },
   "outputs": [],
   "source": []
  }
 ],
 "metadata": {
  "kernelspec": {
   "display_name": "keras_env",
   "language": "python",
   "name": "keras_env"
  },
  "language_info": {
   "codemirror_mode": {
    "name": "ipython",
    "version": 3
   },
   "file_extension": ".py",
   "mimetype": "text/x-python",
   "name": "python",
   "nbconvert_exporter": "python",
   "pygments_lexer": "ipython3",
   "version": "3.5.3"
  }
 },
 "nbformat": 4,
 "nbformat_minor": 2
}
