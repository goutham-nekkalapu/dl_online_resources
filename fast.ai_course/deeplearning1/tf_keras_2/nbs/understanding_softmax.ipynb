{
 "cells": [
  {
   "cell_type": "code",
   "execution_count": 13,
   "metadata": {
    "ExecuteTime": {
     "end_time": "2017-08-05T02:17:34.886622Z",
     "start_time": "2017-08-05T02:17:34.881632Z"
    },
    "collapsed": true
   },
   "outputs": [],
   "source": [
    "import math "
   ]
  },
  {
   "cell_type": "code",
   "execution_count": 14,
   "metadata": {
    "ExecuteTime": {
     "end_time": "2017-08-05T02:17:35.649283Z",
     "start_time": "2017-08-05T02:17:35.642019Z"
    }
   },
   "outputs": [
    {
     "name": "stdout",
     "output_type": "stream",
     "text": [
      "1.0\n"
     ]
    }
   ],
   "source": [
    "print (math.exp(0))"
   ]
  },
  {
   "cell_type": "code",
   "execution_count": 15,
   "metadata": {
    "ExecuteTime": {
     "end_time": "2017-08-05T02:17:37.112450Z",
     "start_time": "2017-08-05T02:17:37.106067Z"
    },
    "collapsed": true
   },
   "outputs": [],
   "source": [
    "def exp(x): return math.exp(x)"
   ]
  },
  {
   "cell_type": "code",
   "execution_count": 16,
   "metadata": {
    "ExecuteTime": {
     "end_time": "2017-08-05T02:17:37.983705Z",
     "start_time": "2017-08-05T02:17:37.978299Z"
    }
   },
   "outputs": [],
   "source": [
    "x1 = 5\n",
    "x2 = -1"
   ]
  },
  {
   "cell_type": "code",
   "execution_count": 17,
   "metadata": {
    "ExecuteTime": {
     "end_time": "2017-08-05T02:17:40.708600Z",
     "start_time": "2017-08-05T02:17:40.693424Z"
    }
   },
   "outputs": [
    {
     "name": "stdout",
     "output_type": "stream",
     "text": [
      "148.4131591025766\n",
      "0.36787944117144233\n",
      "0.9975273768433651\n",
      "0.0024726231566347743\n"
     ]
    }
   ],
   "source": [
    "y1 = exp(x1)\n",
    "y2 = exp(x2)\n",
    "\n",
    "print (y1)\n",
    "print (y2)\n",
    "\n",
    "out1 = y1/(y1+y2)\n",
    "out2 = y2/(y1+y2)\n",
    "\n",
    "print (out1)\n",
    "print (out2)"
   ]
  },
  {
   "cell_type": "code",
   "execution_count": null,
   "metadata": {
    "collapsed": true
   },
   "outputs": [],
   "source": []
  }
 ],
 "metadata": {
  "kernelspec": {
   "display_name": "keras_env",
   "language": "python",
   "name": "keras_env"
  },
  "language_info": {
   "codemirror_mode": {
    "name": "ipython",
    "version": 3
   },
   "file_extension": ".py",
   "mimetype": "text/x-python",
   "name": "python",
   "nbconvert_exporter": "python",
   "pygments_lexer": "ipython3",
   "version": "3.5.3"
  }
 },
 "nbformat": 4,
 "nbformat_minor": 2
}
