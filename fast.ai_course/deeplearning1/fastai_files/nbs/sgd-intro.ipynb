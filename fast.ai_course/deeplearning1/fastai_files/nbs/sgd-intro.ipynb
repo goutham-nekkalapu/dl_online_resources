{
 "cells": [
  {
   "cell_type": "markdown",
   "metadata": {
    "toc": "true"
   },
   "source": [
    "# Table of Contents\n",
    " <p>"
   ]
  },
  {
   "cell_type": "code",
   "execution_count": 1,
   "metadata": {
    "collapsed": true
   },
   "outputs": [],
   "source": [
    "%matplotlib inline\n",
    "import math,sys,os,numpy as np\n",
    "from numpy.random import random\n",
    "from matplotlib import pyplot as plt, rcParams, animation, rc\n",
    "from __future__ import print_function, division\n",
    "from ipywidgets import interact, interactive, fixed\n",
    "from ipywidgets.widgets import *\n",
    "rc('animation', html='html5')\n",
    "rcParams['figure.figsize'] = 3, 3\n",
    "%precision 4\n",
    "np.set_printoptions(precision=4, linewidth=100)"
   ]
  },
  {
   "cell_type": "code",
   "execution_count": 2,
   "metadata": {
    "collapsed": true
   },
   "outputs": [],
   "source": [
    "def lin(a,b,x): return a*x+b"
   ]
  },
  {
   "cell_type": "code",
   "execution_count": 3,
   "metadata": {
    "collapsed": true
   },
   "outputs": [],
   "source": [
    "a=3.\n",
    "b=8."
   ]
  },
  {
   "cell_type": "code",
   "execution_count": 4,
   "metadata": {
    "collapsed": true
   },
   "outputs": [],
   "source": [
    "n=30\n",
    "x = random(n)\n",
    "y = lin(a,b,x)"
   ]
  },
  {
   "cell_type": "code",
   "execution_count": 5,
   "metadata": {},
   "outputs": [
    {
     "data": {
      "text/plain": [
       "array([ 0.9768,  0.5397,  0.9241,  0.621 ,  0.6428,  0.5169,  0.9249,  0.9137,  0.5157,  0.5472,\n",
       "        0.4596,  0.8797,  0.2443,  0.8795,  0.0408,  0.8448,  0.9912,  0.1924,  0.7871,  0.0699,\n",
       "        0.793 ,  0.0876,  0.2108,  0.0318,  0.2491,  0.3884,  0.0463,  0.0969,  0.4524,  0.6549])"
      ]
     },
     "execution_count": 5,
     "metadata": {},
     "output_type": "execute_result"
    }
   ],
   "source": [
    "x"
   ]
  },
  {
   "cell_type": "code",
   "execution_count": 6,
   "metadata": {},
   "outputs": [
    {
     "data": {
      "text/plain": [
       "array([ 10.9304,   9.6192,  10.7723,   9.863 ,   9.9283,   9.5506,  10.7748,  10.741 ,   9.5472,\n",
       "         9.6415,   9.3789,  10.6391,   8.733 ,  10.6386,   8.1225,  10.5344,  10.9735,   8.5772,\n",
       "        10.3614,   8.2097,  10.3789,   8.2629,   8.6323,   8.0953,   8.7474,   9.1653,   8.139 ,\n",
       "         8.2908,   9.3571,   9.9647])"
      ]
     },
     "execution_count": 6,
     "metadata": {},
     "output_type": "execute_result"
    }
   ],
   "source": [
    "y"
   ]
  },
  {
   "cell_type": "code",
   "execution_count": 7,
   "metadata": {},
   "outputs": [
    {
     "data": {
      "text/plain": [
       "<matplotlib.collections.PathCollection at 0x7f351947f5f8>"
      ]
     },
     "execution_count": 7,
     "metadata": {},
     "output_type": "execute_result"
    },
    {
     "data": {
      "image/png": "[encoded data removed]",
      "text/plain": [
       "<matplotlib.figure.Figure at 0x7f3540229128>"
      ]
     },
     "metadata": {},
     "output_type": "display_data"
    }
   ],
   "source": [
    "plt.scatter(x,y)"
   ]
  },
  {
   "cell_type": "code",
   "execution_count": 8,
   "metadata": {
    "collapsed": true
   },
   "outputs": [],
   "source": [
    "def sse(y,y_pred): return ((y-y_pred)**2).sum()\n",
    "def loss(y,a,b,x): return sse(y, lin(a,b,x))\n",
    "def avg_loss(y,a,b,x): return np.sqrt(loss(y,a,b,x)/n)"
   ]
  },
  {
   "cell_type": "code",
   "execution_count": 9,
   "metadata": {},
   "outputs": [
    {
     "data": {
      "text/plain": [
       "9.1607"
      ]
     },
     "execution_count": 9,
     "metadata": {},
     "output_type": "execute_result"
    }
   ],
   "source": [
    "a_guess=-1.\n",
    "b_guess=1.\n",
    "avg_loss(y, a_guess, b_guess, x)"
   ]
  },
  {
   "cell_type": "code",
   "execution_count": 10,
   "metadata": {
    "collapsed": true
   },
   "outputs": [],
   "source": [
    "lr=0.01\n",
    "# d[(y-(a*x+b))**2,b] = 2 (b + a x - y)      = 2 (y_pred - y)\n",
    "# d[(y-(a*x+b))**2,a] = 2 x (b + a x - y)    = x * dy/db"
   ]
  },
  {
   "cell_type": "code",
   "execution_count": 11,
   "metadata": {},
   "outputs": [],
   "source": [
    "def upd():\n",
    "    global a_guess, b_guess\n",
    "    y_pred = lin(a_guess, b_guess, x)\n",
    "    dydb = 2 * (y_pred - y)\n",
    "    dyda = x*dydb\n",
    "    a_guess -= lr*dyda.mean()\n",
    "    b_guess -= lr*dydb.mean()"
   ]
  },
  {
   "cell_type": "code",
   "execution_count": 12,
   "metadata": {},
   "outputs": [
    {
     "data": {
      "text/html": [
       "<video width=\"500\" height=\"400\" controls autoplay loop>\n",
       "  <source type=\"video/mp4\" src=\"data:video/mp4;base64,AAAAHGZ0eXBNNFYgAAACAGlzb21pc28yYXZjMQAAAAhmcmVlAABQ0W1kYXQAAAKuBgX//6rcRem9\n",
       "5tlIt5Ys2CDZI+7veDI2NCAtIGNvcmUgMTQ4IHIyNjQzIDVjNjU3MDQgLSBILjI2NC9NUEVHLTQg\n",
       "QVZDIGNvZGVjIC0gQ29weWxlZnQgMjAwMy0yMDE1IC0gaHR0cDovL3d3dy52aWRlb2xhbi5vcmcv\n",
       "eDI2NC5odG1sIC0gb3B0aW9uczogY2FiYWM9MSByZWY9MyBkZWJsb2NrPTE6MDowIGFuYWx5c2U9\n",
       "MHgzOjB4MTEzIG1lPWhleCBzdWJtZT03IHBzeT0xIHBzeV9yZD0xLjAwOjAuMDAgbWl4ZWRfcmVm\n",
       "PTEgbWVfcmFuZ2U9MTYgY2hyb21hX21lPTEgdHJlbGxpcz0xIDh4OGRjdD0xIGNxbT0wIGRlYWR6\n",
       "b25lPTIxLDExIGZhc3RfcHNraXA9MSBjaHJvbWFfcXBfb2Zmc2V0PS0yIHRocmVhZHM9NiBsb29r\n",
       "YWhlYWRfdGhyZWFkcz0xIHNsaWNlZF90aHJlYWRzPTAgbnI9MCBkZWNpbWF0ZT0xIGludGVybGFj\n",
       "ZWQ9MCBibHVyYXlfY29tcGF0PTAgY29uc3RyYWluZWRfaW50cmE9MCBiZnJhbWVzPTMgYl9weXJh\n",
       "bWlkPTIgYl9hZGFwdD0xIGJfYmlhcz0wIGRpcmVjdD0xIHdlaWdodGI9MSBvcGVuX2dvcD0wIHdl\n",
       "aWdodHA9MiBrZXlpbnQ9MjUwIGtleWludF9taW49MTAgc2NlbmVjdXQ9NDAgaW50cmFfcmVmcmVz\n",
       "aD0wIHJjX2xvb2thaGVhZD00MCByYz1jcmYgbWJ0cmVlPTEgY3JmPTIzLjAgcWNvbXA9MC42MCBx\n",
       "cG1pbj0wIHFwbWF4PTY5IHFwc3RlcD00IGlwX3JhdGlvPTEuNDAgYXE9MToxLjAwAIAAABHzZYiE\n",
       "AD///vdonwKbWkN6gOSVxSXbT4H/q2dwfI/pAwAAAwAAAwAkAvzHv6EHQzQgAABQic/gsldNQVEG\n",
       "rVWJETueZW6CveofCONurjKq1mcfZ0P89EfiowXffzerReILorurz0Hw00X7IHiVKxzwYDZD0QxJ\n",
       "mjjow9WXmubobDkAApf6LB36YimOZSU801oSRxBy6ei5QBp6P7QofC7TLJ/6xNQWjHHk8SqxsjPl\n",
       "CTF7y5fzeDMTE0rrevwVlS2VrphRCB20Ilxh3jTvVifo5Jbj29SPUx72NrAAB7r+7bxJHtLOnWHL\n",
       "3skf+TjGzTWKw2g+rSK2+71e1oQnKywe5oylB/bA3ZmO5Jm3x93O+tapVuO4zmlMfXo0IOIWMQBU\n",
       "gfcxVbaPXVfIzMERtM3Rtw77L6VLbXu1q1y75i++vB5MQqAAJ7Yiptg4Ifw2DMfwJGaxL07JAwHq\n",
       "YjuMZHHjb+OX22makPIsoYR2UUw8zlvakf0Td4BEa6+Cnlao+HjJMD7RYTLKYyv+tq3r8iKZ2+ti\n",
       "wI7F+GSnbZvELeHyuF+28xlZuRGzrLhSp361IOfwok6vQ2psYbsRm3N0mLy8LrrWJMljvVi3wxrV\n",
       "BzPwi2P+21N1DRwMBqePmkCbKn8JocMFsfNqgVMJg1IfyT/pCTXDGdH2fDZhb7u5uEnyGZpZzNs8\n",
       "4Bzb9uWk+eKdZfJZQHA00f9Ik0mwrED9n3/qAAbr2j/eH4b92T8n12FKx9zthyzITCEtCU6p88ZN\n",
       "dttmq9rEwY15c2JeLP8RjgdE/JW+8cmExIZxjPJLHUm4nWbLG8qQcnwDu3jiOjYSbAKNkUOfovtd\n",
       "0oRO8vPnBXsKZ0CoJKJdedbfNVh69qxcWlzKmv30ux5G+OZCTJODbEG7eKWkDiZ0DyBNyrXRT0+7\n",
       "ldWwjEtHe5l7i3BRyWZp+cDSGEkhPROsaFeS4d+95XlCTY3HfScNq5RCKEx9pdJLDxs12FccxmOa\n",
       "7J9WwYBYdvRUyxuyG7KOX8+GyCvRf/4dU9b8fSnW5o2k0/q0tSR6+v0uHK7gWKWpp4BiQ53+7A9P\n",
       "t8DKZSspPRjfOeX/zht9CKal34++dR23Jk+vApp6h6dJl3tEy3O/PONRc7888//fiFFFstxwzdgA\n",
       "c0x45au+claE7nEEvOxHFt6K4ZL2q3EDUaJguqL3PtnkWfW7jVUnx3sHM7dGovN49DE4eX0z/Xsi\n",
       "BP6j8cSGEOlVEya5dYEYUY0gIXvHvovjvNtCKu4aPpTTPp8jbERfuX663ITtBAAACcuwU0ug9FWV\n",
       "07HcCEnEdHcTTsOn/R3WV4E2nz3rX98y/9Au7NAhLRG+xXmFjxil7PXqEsbMxdIo0svTVQpb25Hq\n",
       "zWFiIpGtigXL9ZmcAoxguXStxcn2hg5c8XTa9keBD8biXNQ5irDO+m1IHOU6fYorIR1MeSO+0YpJ\n",
       "JFwFSwuT44i/LzU2SiB/7HZA+SSj1b5hpFM2uE/U4hzwiQmgFjjOX5iFBxnyXFmLETKF1YmbgirP\n",
       "z7BwR/2yLyB/QkpeFJOLG5vha895EfBtmhwm+qm2ZQkZQjwYUn/1e89tO5YHX0AIaug6ItvMD0WL\n",
       "b/jfMlcVpZ/WMR0HR2jyFHKkrfyzIsIL14jDUB8usnxCE1MuLFyqg4CrcfYbnfqu42Ki3m57sQE7\n",
       "q5EuDDBZ4Q5N2Z4m4LMwO6GknJa/tNkA1+PsZ/1m92ranW4fH5U3rgpoRAa9kwGfCk1GOFijJ3Hh\n",
       "tB4puspJhvz7hgdgsg80W4hjE6gNxzokxCCOvw115kSs6hhXf20ha5Fa3WzZviFm4TyaBt1oFoek\n",
       "p+llE1CzLfqkeP6yjH7TaaYdc0IqXndYwl7G7b5GofYfi5JZnSViBvHc4GyEIGF+dvAqrjkkqIOa\n",
       "yRuk625F9wF14R7KxEz474z9+FtY+3DMiP6C/W6TPg097mRkPgOYJm9mldkX8uf8bOl7dYzd79tw\n",
       "sNilGCUwNIN1NDpx2JCnN3chSTUXc2KW9+na7QfXGd4KxO6CVb1z+44uC4L+LZ65FheoTT9809z8\n",
       "GhXl8x6TwyaYCbViV/24Hl1mMEJGbOiPwCZ2CziApRQBZW75jOe4vKMs5BU4AjwsIOD1om/FpZXr\n",
       "F915MaysaF0VlU09DkuWy5FQ0nhni9WImIgBsrcbI1vLW/iAp/mCUCTpmu+lzbXyrEGmwcOFW2wl\n",
       "NPrCGi5wj5TxOY7UjUrGB03AlFWu+UtfW+7xtyrHJx70YGr8czpKZVEtQC/MzWVMTe6iC113LFQv\n",
       "JV0U7VINHWDUd+JRpFJBqq2yXMHCecZDNvPr7tAGXbs9FrdURathlXzJlzl2O7dTuGBN11RIXxkY\n",
       "3UCQ/JjcCt4UiIJborUMqfNNIUNHTGxCMvUA3JvjHi9MYqcwcisk0vkiwj5EPaJ4TLBLw5ulyr7z\n",
       "QniF1w2+K75w18N8xP5+Lteg76UOnl465DlP1CtX4XgKpguuZlmTxcSkIor/6z8ZJPkd1brEFov/\n",
       "7paXdlq/M+TqeHOZAWEJKqZUFd8HZz3wDXfndQt5rnY+XZklAuGVIT3/Be01qh+9+m8kFIuruv0c\n",
       "aX8Ju7KRnaDbdiNsvZJUEw67g2V3vpoCP3XB2uAWrkV813P4fIwsll3auRGEO/mTUFbt3ov4UCLy\n",
       "U+uLrxw9P85JrPxFQ7BKApdixdcEAc1zsnIm4OTFpjj7uZXr2ALVkaXuYgy/41lOozVtPPIyaO4g\n",
       "/Tfrx8B8sYsC5/YeP0ItT07dFkjTlfV1oE9f0l1zWPbISrACih+eYkoOZGpPNYryNgzp8GahJba+\n",
       "+AmSoo8+pV2ENIgM9ukvreEUksFkzYw6K73G8lgbLwybFbjeRE+NF9gFnjn9BorluCb9uNEknThQ\n",
       "NrisUe/UJY0extwQBmX9Nc8X9JOVeUa3dpvb7eUQpzVMx0wVl14uZ8DLeQ9VNs19hFqkUGckl65J\n",
       "jqcJM7UUn4U3aa0LrzMXXiXyABs29142A58Xr5pgs8f+6DYgh+WfklKTXclJYWcmJ8WNX+m4vQVt\n",
       "V3fjZMf+rKl5B2znfhkTBEnuSITF4N2KbMHdAlWnz0JBRCKNTeAyGWYzmPIeHg73Y6Vl5t5Tpmtn\n",
       "TTw1AjM+rnTsPq8t1a8VaXH5nUtGT88vb564uDt+uHQpW7L1vb9w13uvg11aLWhCe1Ezp+A9e6t5\n",
       "dQEAYLasB6Vi+/Zm0HppTPAZDEGYWG8CVLgmcb3xdEfEk8f/ke+nXIAJD+LqH0B6AIGegPZ2Qnd/\n",
       "vhKdJSjaxkv5v4VSArGiy4v4smTY2CbEAT6eMbiQSvmLLl1qSKKD3kAYCrHA3e0mhWK8V3XukH86\n",
       "Jjw7ZwvDIBTJ328n86UVE5004o9VsZEWWGoHHqb04WCE5d7XWjqoZTSTrzqPdP+mT+AQHdMAACg1\n",
       "24AJc2AMy1lp546aSo5TDhd7/CVfiKtnASBZ/Hz+PpndeFha8eTxNOLbpYQ7xvcBXVKqsxykpuEU\n",
       "I525Ejw5ejqivAciCT6WTqatLjXMvroidlUQ/IeRv6Yc19rl4WiVWjZs1kLgrNxAAlOrPP+P7wEq\n",
       "DQo2BwdIwtgnsniL9+gnMJqJYsoXfVVV+5Ex2oMQ6k9/DXzCu2eppWO/VlCu5SdxXxxpE6MnQy0V\n",
       "BLrpk9gHnwPz86cU9/Ceq/QFg5QL0ptpP9wiTuupjduzk/SEKGQ8Rd/uiht3/xY2zqNffin0l/+2\n",
       "Bs9UHV3jIcYoz0Nze9hdbSKcga5t0Uu21cUSZpO7LOdWPmVTsa/RQHN4EkyCOaHrOiVa2JUBmTOD\n",
       "sPasrKH1GUCKvJJMrpvyDm9STBoUAlg4JpN4fvUJkkIV7+jahmd5hxW9vn0KiNzGs8hYWzbnAMGr\n",
       "tQN6htTAXApaUJuAlZf07KaiUutMLoGqwiTDuMlSkuXMd6IPiNqcH23AjfY0YOM4L8nuhPVNWjwV\n",
       "XXlGjX6kw0jQQBUuTIl6gyeWOFIesE4Mz3EQRHxZ/2o21EA5TaW6FgOlmxkLC7QfKMv/BKJGtyDb\n",
       "1OO9bYWULug2380VZgPMrxBAwEdyio4BfeT4Nkt+7Upt62FUgl/3YNgBIc3RttNSh8pACCsBbN7D\n",
       "MYf59Jj898VzngK3vh1z5+PEjcpxMHVNVOgMnZJMo5YxqRh+rNpbc6yoDXUKVYSg/b2nrDH6OWMZ\n",
       "Qqzh5J00Qpejn1zTPJPndIX473D2TEAXXZgrfZCZWXTvFazKCAwSPgKmLBrmeOZR7NmwaP/mlhP9\n",
       "0y6Gxkc/68gt/x7Wgey2hC+k6xAe5CnNU93r5agmv1MB6+WDA+d9wTETw/tCO4uG0EjPmiuI4Eek\n",
       "mAoWvX1Mhch4cJbRbLKH2wWlmcuO6NlXWoXYgIUMO3+FsCOiQ7IMkvEEVue6GODh6bd9y1jBOfzV\n",
       "3LbfjhNXcEhAAzywnqSHIJvt/KfCodli+MfKJ5qxT0e0olEKqmMmgMzLSpsj9E9zWqCphOX/5mLT\n",
       "Jv2THbEulQHwobAE24qPQlZ/qjDzBYr+MCTmNWpnoPhGNBxk7NMR/VZaxMhJuaZXhhXdY78VYd7e\n",
       "34YMDsrJCCtEVfz5nhfaeCKTDV/WbV/0XFfZYyXchtKW+mh4k418XfvuWFR8Hhk2QvgEv8m53aIj\n",
       "RVNHLBKHs3q+C5IqM6eY8dVD28bDWLUfKYJEyblRAHe9GRAMgI5ekOy3K7gx5/0PheALhnslPkh4\n",
       "/u9sEQYlIXwO1AOV6jcTVHPGj0g3E09spIESNWM/kgmgTxwBtyTTLZJ97gd+a7G6t0oByApzW6HA\n",
       "WcY6bYziTp90bPhf089qTf/xpmTmoEEdxDv6EpMH1KvQ1vz9DMeCYme5DxkxnhA/ky7la1mBNhWQ\n",
       "uspbIPaMiv+GHFHMNEEie9uf3Rjlu26DhBsol7FJo4N8wS8rzw05ZAy3I2u91ao3qsTxiluEQdrI\n",
       "4H3lvSMP1HTd+AG2KQ8h0G8elGjGnnFLe1ULViLXH3McK/Twia3x4FxBMFBtVR+krPkG1V6uFr6z\n",
       "06BXdT3iT9EchJvdI3t6eaT7Lk2d0ZtiP/C9mQ8gAu6sZg7GRYL7ceA4dluWDYYgdxi5tDx2kJic\n",
       "PlePReDReLrdSsoakKSafwyHjNkg6Z5e1M/eqVFZbZ7OvSZhF+IZpGVgV2YlgVCkjBYam0cMBb+s\n",
       "B61D/hbyIhbLAh1sRHxiFnYcPTxX2wO+y4o4y56kjZArKzPt6aFkb3UyHO+ZSOJKmMo4D2eY4TKd\n",
       "6UlDMzdJhVHfhKCKmu1C9hyjRTufkO/pCEsqyvJYca02sN6Bjs3NTECka45Ihxt3v/8g/Ja7vhDa\n",
       "C5twOdNqxzTWWbSQb25J5Sjl1OEZpLC79iBR5cpAqR5MVNE0q5j/mOczW+47yCAec1lI5TpXGORc\n",
       "McPbytb7mPexaJGlEu2v4HL8euDvQRL67ytz7IXGDINdbyiQ1lztL3qIau5obW71dPHdisl3u/+P\n",
       "yhL5kS9oQeUHwbm+y7i9XS9zjv9vcpf+AAAFIMpUKl7hJ4Z/NvIUmjZOF44S7DJ7utyr5UTosyf4\n",
       "KXr4K5IqQ4UMfNQP5vRAl+bYe5NJ8DrmJhg37qRhpNzAjotCNpurRKtRLK0RpVjoKSeGz2KSmmSo\n",
       "RdUUOrnffs+T4PCEVwLJZmhI8sg2wKJHWBjogHentQJ2X7XLlUXz5Fp7ftoUjEpiKCBfANy1TfUW\n",
       "D9ftuu18zSUNSSR5wTa1Ij9ji6ymGfzZqGhxzF67JoNTxVBxlyu/940LmDOsUtmwR30N3gfwu/mh\n",
       "M0OcEONug3WpYQ3+4DkhzqUqZdrDrkbhxS70E0p8cVQMBnJBACIiCZtFNc58YBQjZELA5I7VdanY\n",
       "JaC7TNkKD7wJafhXTcFivLOCADBcaKuiw4TIlN7d+9CX+acsQegj7mvIOGiCx/AHpwAVkw+myLO7\n",
       "DjZvyYbjMqb74TuslIAJKwPo0znKGy+MMpDgP+GKbMBY5m84JXadHd+WiU4wOb146gDkAzM26frq\n",
       "Gq+KIWzM8/3DTOWg/mlVYOCPNadpLLMOGP1Dm16d8qIAE6axeSLyvPX9zwuAOxNy/vb9zU69g/jK\n",
       "uJ1EamqUW3UJJ8IEHCs/i8I1/PUG5YWnss98ygAAJ6EAAAIwQZohbEP//qmWACI/MTVgQ50AOSuB\n",
       "OnuiRlU7NohjKldgRYnVICCHxtuR3VZ83wF23tj1ejVV21a3OlsZWByZC0cHH7HI7qvb+4d089lX\n",
       "0dKXtUaBcmC9yEpnmv+qi6U06KilyU4Po/tD3D2MJIVzto0jiAUHBK2VcQNCZEdP+4Ar09Y/eWy8\n",
       "bkoEZAgnB8hpKMAz500yIFbSdVYjhL+GTf32XwhUVuXRasAQO8kQ7fokRHclRWZ3yhaINoM4ENHU\n",
       "1DNMxXdgZpA/sNdt2yImLcKFxjuDtNiO60enmtJQm2DiY0yTakGoEqvrw6ci+KEOI+BmFiiSxQuv\n",
       "XqOTuKt3sGs4iQaXHqd4qW3E0hZt1BNXudM4yDA1qimTg/CRViPJMVlUBzb8mcSCLXGgux7pCz1x\n",
       "LuJLhprsGW2wKEiLvE6vWg53MBuO10rsRdSPfPlvZGgB13kPM8/ZYIo9CtfczglpIsgTZfrJ7E7W\n",
       "jMEQoJwvxaLt5rHZ39bIKutDiZs/onJgdlx78Fh13lqOswL3ps/FDs7Hq7s7WVxeD1fPsQfjvIq0\n",
       "gRrBgRe0ykjKgxApRXGUONeXYTDIn2fBrn7O3dX5ErYS5MaepY2giJk/yvUpOBGgQbO9G96mSZlc\n",
       "2QTshc/VKsPnE61C4o0yeWAAAAMAAM2zoAAAEHeiIj8v/jPS4JhyqERksAseGCkH9ySD6z5WGjHk\n",
       "t1jzyKyG4vuqvt/pmaCyzwRL4kDp5yli4uAAAAMmQZpCPCGTKYQ///6plgAAEJ5X/h5hxoAP6RCV\n",
       "06Ok6SKXmxp2GM0HjBJ22Cw0jZCFzqQ7O/FTTA2tYxFS+WOMz0HPqkIlznV0ebSS189YDqxbVXjw\n",
       "bipQAzZmYS2dI0fGI9A5p1JE2ugyV3hm6n5OpuDOk6VWoVVFy9oqtDs1jA36o43URYx46el3ckCd\n",
       "D78/LqoHITrddTnqUqSd0RG1UBg26duzsWWWPoKk8lFhgJiJ6pvcxq1u1f62q5s9OhbxeEhpod94\n",
       "Xsoch1Nh4Wz3jbrRBkmVd4skgrQKfIzbYONnidqDsAZMvGpOVik0gT8yi6S0REv1ubDf33gaoFxI\n",
       "KYqIQY6zpKvBjtaSBMvYs3pAVhZn9keLltCBMIJIbi44q6v1zJRvBGgruEl88D//yVpxauTHRgkd\n",
       "R/FlxTMNr/zxNjvFOmF0pZvOGE3podA35mABgnWfU7hj0N9+jZVrfgyuvT4R80YWbU8pSXDxuw9C\n",
       "qVZrB4Jda6aIQxxoCC+zu6bJyTUErJ+Vp/ZItba5HjurNcRBoy3L2bkNhw/iQbto+g53JteczB0t\n",
       "ccpy3ApbJuHw/OZMizxy9BObEM1ZYxl0iOgUAOpceEb607KqZXC9EBOBLtP2JtA6jE1AMsOd75d1\n",
       "5AvbfMpXrmdTM/T4bzF4KP8qu7m8o86bRWVwNxyx2jLi103nGVU6FTrpDm9sqDQ4F6F7CR2U90Wr\n",
       "zpxBJT3fcsGrfRpbzjiXm9mGeF5fzqU33QdpgDfjBAsMo8tOjEkCZ7mt5mveX50EJNWIGAH26/42\n",
       "dVM0M46mjV0/wc4GwSmyMut7Qrg9xIEz34z6+ZG9CdrzoyKXRrpAUac5BTuwTVdOEUJ+XvqivAg6\n",
       "qNTJSDXzgLMEjp+UjboHe2iZdy9UF9/qSpp4hnGeuNTnBM5H9DcCehUhT481eZoNQ9FY87B2SChB\n",
       "uLO+lNaBsq/oz+0uJJejQWmejzkEhi1WW+7mxmAWcqGT+s2SsD6QxfqqeNNRWW+OUcONObQN7CGo\n",
       "rUhG9tqjkAyM4IEugNegl3zWc5CTksKroVsACCsM7p6VjngAhYEAAARIQZpjSeEPJlMCH//+qZYA\n",
       "AFC4W/COViABOtp2jOq0X0q8oHVAM1TX/4k7bOdQHzaeqX4M2O5f1mZLCYpSwKi1+iAKuKVHVqo0\n",
       "m43PhgaPvoI51Px5VQX2s2/ZjXsqCMwDAd3j3t1FINOMtyuD7/58+8jBbK/b824uQr4A0DyGd86h\n",
       "9JJMbAgYm76M1U1klsODWSfjVGLFseu+Pu5dGUBKmDjYHUg+hSL8dA7dVNctdYgnxkI7tmYU1X8S\n",
       "9jOInO9S7nkqoNC4xDbWwSuePjeQ0suFpZwPqgy9pxTyKwijnJw0tlKUvsvL5uBonFrlbf6G+OkA\n",
       "0baMT9/con9pSajW29zFuo2M4zIqkqbWE8xzlifxXZcHxMcNJqocpPcbDdo5mFuUaEQJEmTWIfLo\n",
       "Rj7DFAnVdO2I79xs+ob+k1IdrMJEdrx8DO1p3Nb9YweRF9bESvMTLKfihbg6BWmHAB4Nzg7C96Xd\n",
       "gJwAaDYDULh6tBIEMZOX3XqhkqMslnEioBTLd0updtaVBJrixb8lyiD4exQ1XQh5X7olwtPllQcJ\n",
       "rzbrQgIs1wTlVeKOq+EGoAs2F74KgrTj1zvvsuW8zdv9hpO4UKRpZ42xZOksYSrWnB131mXQhx2T\n",
       "EXqLpr1Iz7tzoAIqX881VW0wv3S5cm/772f5quiOyd3oN2ayOf4C0Y8Zad4OebkOfHU62CSNBdVQ\n",
       "565ubjgz3KEuMVFRHM+qIPkFshUCJSCtbZTDkRHBVcW4jD+Cbw4UcLHlFBYHg0ENdvxLU7B6Z7CA\n",
       "6qbDuoC7DoLJpuJmgC6JavIh4MRH4U9fWnDkS7mIngnMRQFy/5camhX6nLTpZZwVzQYKqfKqikSj\n",
       "dMRiBVEgoSXcQJjiU+/HJbIl9fDKHw9YcFyHVKnK2ZJ5j3r5pXKhw/70Z22g9FYJ08DYjuobrPeK\n",
       "yBSmraD3tXk5X+Apuza/+nUosbMV21AqkSE2XihfgzDNFU+AZdxRHYtxxdYqKieHSnjIkFqG0UDc\n",
       "sXM4CpSqxby6k/HoxZhpAoff447o/UhfF/PoPDSBrYQo1EPZrZUU2arZnHpE5sep459t1UDxqIuF\n",
       "qMrqreo//7SYEBGlNrlY5At10pp0FvzRZuQ0Or6GrOCkOiUIawCCwtfws7I4QNWc7Rd8YnIIPIo4\n",
       "wqlEweRPbfphddnSe2a05RZz3H9SHMdaYdq4T2mIKREfFdnnvPSHbalY59GPQGJIjdqC4KIrsJWP\n",
       "cZuwpfS1y+SBoMZ8gm0D4IIbFys9LSgiMxKpC0eSCgAq1xTiljhZqE59iFeJF66e3h75r0BavtRs\n",
       "St+dHz4bDZccRPvHMKQtb3WF97KB6SsA+cgNarTmwirGLTPC4L+VrCwA6krLMhFlyw7vhX44ppDI\n",
       "gGLagYPEfxqp6v6JWw2+yIpbLEpThX+PD+YFp8AynuvjqQEUrysVN4w7PaEDCAAFnk9NAACtgAAA\n",
       "AcZBmoRJ4Q8mUwIf//6plgAAxUzbQAXVGD/7MuMl/NsQNTr2r73/m7wCKKbZfjj7hjhvHGZwdM8l\n",
       "spCmURkgUjf6FUPhkshg5EeqFBqNA3eqHNXKMHDk0FMoqQ6Zck7sjnkKKu+Qi+kKUBiYXiOys781\n",
       "pRGCVNF2WueVfALUZweHlhRlNSLsnsXjK6WVKZ4+wnD7+H24Q7kJuak/arvjMd828lg2MFa9PGyR\n",
       "vHuxPF0NYGxaF0QgLrC0QSe+/Hm19pRx8I5AkpAMlIhnDL0dR3i/tN3xY3tH4l+ZTg7i/uX3V/Zo\n",
       "HO3EzZ4eHcJgN2HbyYUw4d9ICL8TUMuj4WgvJ8j82XI8SkNGM/mHcbNMB0XXQx06PIMZ0fG/ARdC\n",
       "wdUwzlHUE0nwsyoiimOr174ScFqctNXJMCmRzct3tgtCeC84C8aUi1ZozfEIrIcWF25rSuk6YlUX\n",
       "BramqQ2Yp7o8covjbRYlawYG/cYSqHuyO8qQ/B8lokxVW4+Pds2MgsojZyugqVXjpbqyTqVyBms7\n",
       "gCR+7H/zYwsDme4+vOofiDjMzzWxpGxj+lDmM3fJdNe4Ygv/7vokqXdvFqnhzTD1N6hiAA4wVQPD\n",
       "AAACOEGapUnhDyZTAgh//qpVAAB0jwOfd5LMJa+b/8FDlBrHz4GrCGIXOfFh3gOBgOboFKKpy4B7\n",
       "omJGNl7y/kS8G2De9PsQa5gQYIVYMckD+dpeTQU2TYSbguqv/xHF86KWtMLARczZj7fkmuToHqFW\n",
       "mriKftclvG6n3eU/lnDlx+XW0pZmYkDkv9/W2SSpkz3Ts+W/epKomMCTWxUT/9/xT/ADuO5DETsc\n",
       "WVj1Y+yaBPtFgMC0EhiIavW/QK8dcSELAtoe94kVCqbuYHH5FmU56NkCRIJ/7pNom8e3dxX6Tec+\n",
       "3BvgtnfZIMkgsbSZFh3ggpPvPx+binOQOeGxCz/SN6UXDDvUn0ASo2OpTgl0esTi//Ud45hL4C/2\n",
       "K8LhPna8VG5OlwQE8pO67sVMbdXi26YVN7xsUsSPu5zcBqmO3EhyMNlJZx+VyiNNr8W2U+hSmlAU\n",
       "cp6jAMRLq9BfaHHuLQeFiWrMK33JYCUKFdfmb4Ou7ef/DkFxbshXav+HWTedWtmxlNu3UFIhOO4H\n",
       "P5RVWpH4btmjCi8U3t5cW3DuxwhgDZDjtBm+SQYe0tF4uu48yipsbSwKJuKvLa/bIIz4A91Qzwsj\n",
       "8admCJT/eXPngdjd5dUzfaCJhH6FXK+BzBi7uFEr6u45eJDii4dUePBAybttQSD6Dg23UDZmb0T0\n",
       "8nzUHs7pRg6e9QVvEFsvhgMjx5OexEvqzuCUEtdaYm7v9AGTyeeAlvkfPu2uzdmRaqEnWCxgq5lg\n",
       "YsEAAAJiQZrGSeEPJlMCCH/+qlUAARn6Z2UbPYF8Wbhk9EOCH114/AThmRbZR0rcCBq9pHu/bhUh\n",
       "DLBxf8F4foKVC2zbV/n98SJhLUWiI756e3V67XgPAcedhxiVMsJww6UkUuWnNFsefa0C9hKZZ2O/\n",
       "Y/8xlUztQcfiyu82D6WlrkkVMkcmr7U2WalIJsBoUU1nHDRftVPAg8oia9HX1yxnfjoG/WohwBj6\n",
       "jRhLv21PAxN1pUdd3ap+L1tcIlyTWMDuBUcP552EiSnMJrNfCfmrSbvV+eFAuHESmpDz6Qpq3oEQ\n",
       "C0slb/9dNYTPFvLL5RifivErcuCS0WYZVHf9lGeJK10Sx1/SY17BZ4/J+2wzZpqxhKS0s3Djfz+j\n",
       "JbBIlc9qWSVcK5NhJC36F1TpTjdvIuVlVC1KhQj8xS97WopvomMT5xS0WGOwk/4/tjbcYfV7Ij/O\n",
       "RTJy8tWIqho3rNP8oNpaMQ066Yof7HCwBN9ki6Kp6D0QhPbJKoF5VCEmgC5J+k8S354Ar/JLXjRY\n",
       "yZbOLgM4LRHYebI1mDiSXsdNWsuMChYUWuHnFrl3wL/6I5g8FS5nyEhorhnALvZcky6YKhkxLjI6\n",
       "MP93G4EQgnye7koLMQ2BgoMSAqHZCVSwbCWhMQomH4Xs7dv1kOXh4JbSSul40i0e+Nr5YlUASt4I\n",
       "d20l49iuqaDc0upE+1QhMbDtmL2FJsl6I5vivEndFROkQXnpWvpoVf6XeXNio80o5bUuRhKF33ZN\n",
       "ZVtSq5vR1MtmmqmTM2JjcpFGw4VHX7hHl+++tadeJd9Grfvlcgm7SWLKnfCLaQAAAjNBmudJ4Q8m\n",
       "UwII//61KoABIG1SoHmzX06YKUnv64uOLIS0d78Spf4SmxgAfwjDSet0RZleiZgL4W6RYCKrMZkj\n",
       "e9CiiGosv5+GKMjobKkNnY6wdLrXUgVCVVckZxl59Nlic6s5YmuJJkyBHIbk6LdFRih+RPqZlDRP\n",
       "pxP0tRpQU1zMOuVL5ew9PHbwKrVIBR+5cPrRL4q9/BJbeQwNg6OBI7WjMUic6YcMlIs+QOQwfJG5\n",
       "QgBJ2Qeajco9WkgHgP+M+56gmaSV7N9cIOhB7+MMPiKFMWSShHxQ5YKdxGdQ/FW1pp9ZwKoiyhw1\n",
       "q19SBU5XiPzfjIJeFxlETznLcouI8hOKekFZk06X3+TpVhnnnsyW5mGnyGIVM3otGbW3+hSudFcd\n",
       "uObZGOGXMw7s+8uEhSQzb6C212ZXvTVzOkIJ6kyfAtpmWyBmcH8oA7JkXJC5JctcO5OWpVMLJHzt\n",
       "1vjgdRal/a3bG1mxofm0lluw8EmUKmcdSF2X9uy/BkJDBculEatbHi8GWV/lcCim8sFJ4G7cHuoG\n",
       "HP1kN9zzJhckjL+8/lN/7KSE0L+to3EMzp65ZwPz/NkFIX44ynNrrzfH4UiZyccZ/KNRXgDzo4fk\n",
       "wUQ/6vky7HI7mp8+87MxXVeI1vJ1nc+xnGbb2RkETGA4wtC5P/tWDkAlhRycVIgyDHXUTsfKWP14\n",
       "BPX71PeAU8g8qlNxCRd6d6RTKGUR5ToaJqiCESl1aCaKI3hoLdg+fZRK2QAABbBBmwtJ4Q8mUwII\n",
       "//61KoACgk/SABD9vuzcCDQmW9g1cE3Gxc+dWsIHoTKXMQSWSfNerH4XD1+URxLJbSXLeOWJVLrm\n",
       "gu3qhkh2XzvU7Spxvlup7Vg167fWu8hPLLpqLD+LcQYotzueKby5queXN/rL7ze3LdI/11UQ6c5K\n",
       "wEsZTHCRLGfe/bH4ExrYztTOZh3ik1kkRrpBHFQ6VyxODLG8ylKr2kQzjGWczX4u4/a2p9BDeKal\n",
       "IkzdQz4WBmfrD2z1rDeTcCYUg8En2Xcz9+SQlicTb6Geh+kRredFzYoSxOQTV3OE38w2in7bt6BX\n",
       "5ZVDX6UocBfLZSjxsc4NPULgKaGuVxR9HvZaZTtjCNG+HtioqVQVeC+tOLQH5DVcYlrRokxW/FLx\n",
       "Vy+3D1bHjt/B3Jne1L8B1Df5ntbguL8RtIFcVIZumZu2Bl8pNFmASPliFQ+lBo6OpB/FqCyDJfIy\n",
       "fyW36uwq9M1LUIxE3RR+TIK3a4RXKn82Yb8Z8H3VsayMdLujJE9/jE9ggbG4yiZf3NDPy7DfGiyD\n",
       "C3CXrz2dbq9LVehFd6pBJKlZDPzAIy5dQJ06mq0R6bntv7Fp+eLVriA1XeCm28WYnovJq2cbDBgU\n",
       "GPqqENzkOzU9O6z2NlVHDsYIgMnjfeJE1+Ms2OZQt8sv5whPtXilPzX6nR0ICcKLGSfJlORfqxKW\n",
       "+OnTy1hudHSMekPs9K/0EEcGTBKcBR/GrlZbcfxpaNGX3AZ7gBZLO/qzCeIXy5Vz/ld+TRzvOki6\n",
       "7yOad+OOtLDDG+d3RENoSmbrWks3FGJg69fMyCxXsbs+iCVPB3a52fE2aHE3oVFktMkk1rMOemQW\n",
       "JAcdROJ2DONJXl5iKxXgBzMhsqI8ZXVzY+zrbYmt9U3kLSkTt3JWL2owhmMMVU6Pbo4S2geCey/I\n",
       "hIUXSI026O7ZzAdglTUjOqsbHQzgqkeeXXESG/psYo5aL4O34LxxHueEH/LNA+Jer7HVjn2ZGhLc\n",
       "MH8XWHMAkH/JVxRVQseEAejVqZ+VxfwTaEVlt3PqRHa7/Ual4UEb5j4sqo5Ddp0CXKL2xHG/p1Zc\n",
       "y6aANi/a7FAfFF2Oydot8w9nhYYoFSNsmjjhK8E5PTIo6HI3m8MdfShJI9l1Ns15aSaJzO40Ni+D\n",
       "FR6qjvCc9OyO7X/L5+6C+dGy19dqI7FqYAa6xqnf5eALuye2MkKJ/jHBzUMjRrt26ThxeCrxJKKX\n",
       "eZ7b/vjctJKgNs1/KBi5oYpJ7pH/zATPRtYkxE+sVWmiRX91ztSVIdFHCusRdzEBlLuWRYvDlDND\n",
       "at8RY/kurlGsUnOjDwpqS5rfbS9A+1F/yL8yinp/R6M2u8XRjcBvLH2GoZ+kvepcHWQ51YrEz8lr\n",
       "+ueKGf1RTZK0n0LrAwUtSPHvyUjaGKHj5qIg04zQrb06X1bMNUcT+vXg0nw79N7g8yXDRLqx7KO8\n",
       "TxuVxV4qlAE5/KONhGJjQU7oN44sa0e7Pqg2VqyzmCbQSmxJar6evlg7Zv7/RB2m76kkrXD+CiV0\n",
       "oJk992ywLIxf/qTWZpGbhH0clUzqlTHLnjR6yk9kK94cpzla0AzGAUAWd6vSXcW1SkhZVJ+K2nqi\n",
       "SbP4ck+afmMHvfPD29ogfkezUU626ZFNFAKiCTzPoXY+U9LcFINC8Wry3bLp7e/5topi8y6bKOvZ\n",
       "o1eRN/aimyvNPcmxZuc9vp/EE+x1k5z3gCrXUng/S0Zda5OElDBozgoVxfzytey1EjcWGF7MJDgb\n",
       "6aJEhyhSFW4nwBKGnotRHtPdRWcMhpS5aAQ5xcLQqCpWQ8BTPIKsO1CpyQndKOa4jXcRq0n9lUir\n",
       "8tLWfkmoNjex57cvOw6ydeijyenuSszFN+psqbggF4kNypjQTrc1oSlAFFaI28elZr+nn6MejJSf\n",
       "6JfMTuADXAkYJWDABWQ3YtwqgBbQAAABhEGfKUURPDv/ABDYANAqjoKAG+YngHyc8cN+I/o/J1z7\n",
       "TW3oAEQGzQ3pKQpKw6AkDMQL1un0pGglBo0vNPiKMX2PPR1MkcOGA9ZDpg6WdD7lfIJsqNKcyQ1c\n",
       "0eDR/kFxeQxNovS/g3qKd0cxi+3fSVquNHZKbQOL709dHjdPlAUlGPn/4MGmfRV90FXOFTJyUOp7\n",
       "FAuwIezlQ/XscIBogAGAlUROPkQ6tna+H1N25sGNw8sVrO/Uh7Ower9s/2q1vIqtWj8zSB6s3CGi\n",
       "rp0zbFBGA2rS1vJ5YH/Tc6cC6IOtGtgQr2GfvQXcV6YnyCl6n8g6X3IXLCweP/1eD+EKo9ZwEQq0\n",
       "VTDER/Tl3/QMO+hxX9byc3F35Tb6/4VU60BYjLrzkvribtevbT2cfShztApr7Xeotpn5XrhRhG7I\n",
       "N3AzYB8Wg0Ewb67Iz0S5oU5t17KBiIi0tHALAtKciLbBT/jdIqCKgaLzcfB9HQSfLDWZtSby4Clb\n",
       "L0XoEaDnas8P4t2BGzAAAACqAZ9IdEN/ABh+sY536iUsWpscd0SrsPvabi4STowpIASxiLS+wWoK\n",
       "SS99lvPJMTLLqpLUoKFvyw+dc13Ydt0AzEcFzAy/w9tJXQd72mVoqetM/Ooe7FHBjz4y86p8+w7N\n",
       "aIucIgU8iBc7wneGNUdkYpDd3/h/DGpyXWI4/rdIRY9TpJ5bqKWv3cVpTBJ4vG/ggFf1PlLQnVLP\n",
       "HhNuz+F5aaXICliwgrgARcEAAAD/AZ9KakN/ABiC7Vlm4TBclvCq2AfbY6UKYJYgAIfiUoHioDl8\n",
       "5lutRRucEkh5vx9PZuvGgmiRnY8Vbk3SdiveEfcfBZeJXIKQWrB/WjVqlRYqAnIH5e+98GArSbS4\n",
       "8r/B4SvV51duwsAyMLI5azpT0Xn4JRj1Kqaq01ijRHBt2c5gZp+k12HnwY6TOUoRtZaaaXtsTOsA\n",
       "isMhGKm/rz+dvXstBd1nAT+edp6WJaGUoJLP8BDiivEjeg9qGPZfwZer5Gq/ghHYTstoM8hAY+kl\n",
       "Pj1iE5muVaMoVoner35zgT9QQKLGyZbDDf+bteJpJ+xogF2CI+I2cmLxVghoAM+AAAAELkGbT0mo\n",
       "QWiZTAgh//6qVQAMZ0iEDJ1dxLM/7V7YBvzTW2Q0o6KGYnNmdDl/r8otVqwfAB1LZdbe27fM+jH9\n",
       "J8hu3yfSJa/Yax4vyen/kYPBFFpd5rdocqWRZAs2ElKvQf+7TKZsME5+Lx9HPGDvM7StIzlCZY5u\n",
       "aQjFNxtWVnHfBQECH5zoPHt/XuPWBcoREJ3SSZrgFOtwDpALs/PwSIPs1knOp7yBtE6fc1cOuCy2\n",
       "YwFSkSxQrVOGBCwPqttUHSyR61NmnLUeji1w389+zkSy6ht4yofvW/2CuPykkTFpdlPbfGEeg4x5\n",
       "e+UjJkiXbAkIHFVJ8cNvokQJbx2DGRQYHQpaThj4MP+M1FMU9t+IX3dZlb7cah9ICB9sP2R4XPQu\n",
       "MXkaFz1XY27O2doqCi/eDUoUTvk4lQ/GlvdqcTzDykbrv9IxZMHhCxF4z5xA37ibve/cYsC1rrwm\n",
       "3IBzEvbvRZe2RewtZ2PctWyo3bg2dhcCLAPEzYNXm773KqToelZBRM+bpLPDuHo9ioAzTW28ESNv\n",
       "KLYxD/HtK6ntD+Z/7kFzoNYmUG52rAR8f+vHBb579gJyaBTujMiBQ4vdi/8X/0M60rnC2pAiiyZf\n",
       "Y7O0lW3EB7KMWcx/hwm18jiSGzV6ihfJYgP4JkU6R46MFX1icPX2r5fLTZaFTuVMdJcaDjc1d0EM\n",
       "/iMyv7/FvV94KooYO/9eTAf/0HeN6TO36al3VgFI0/w25S8CpwuqOd8fcmej2W0ohSn2O3OPZtc3\n",
       "41ynv1COZ1zaYuA7tTtUjcjGRsvbgHj2oCoGeizbLOW1bslkGfusYV0FzTNVLcJqWignLMkY3rZm\n",
       "qwbb5hY7w72e0Z6LdnjNnhAVybN1DTZEWsZQDWdfe+A2laJxAW1zd++FZMNuKrRt4eh8gXakT/+/\n",
       "+lvKemgA98rA969AsPjLlJjjmd7/PdTuSozAHNeowSOlPFepjKhJFpaY5EjXKS/JvBRUVVj/inaj\n",
       "qg3eIWL0WIEtTqcvHke6Hn3TB+XIo1rVuc99mgYLhfQf8WfCux4PUeD7smgiZu27NYF/sIY82bO3\n",
       "/pymLAeLyPk/kdD4iUcHlMsHQ/XqXuAkHTP9N350j5IsKqLhql8TMY2wUlj4mCW9Ddi39jILfjwC\n",
       "McF1chm74ZPiuJJQA4O36HmfEFngx58dmJj8z/RDKPvWQF8/UY18sRLJCVv3AOfvuyF9JK/dSUmR\n",
       "solCFDJNDOf/AWKlk5fiKy0gUW4W5U2X70qJQ51i3A6lYBIiqIwqbhwYtLltSjVu6A1rR2WeK445\n",
       "5t+zCoqD6e41arJd7o1wUbhCn09AJ/ZaOS3Ip/bZJd+U9X5fl/ewCqWSfR26AKH+ZcnEbjchUFRE\n",
       "XUNj4f1VZ1m9xqY12Yd1uxlGq56SqW0yPOVnGXiVVHthACaBlAdMAAACfUGfbUURLDv/ABEKVHXw\n",
       "oxoW3vu4HEeMACH671SczH+/lERyvH8yVuSvxJEN9Km3015O20FTYAdH4y1V1+gSyq0xLJR9qEqo\n",
       "efdEUk3laFqdkEuQy0W80ZwSo7ebi06aOEJdVGtU82RcUeWVF3VJHmZKAhyxMbg2UT6HbFj1I6+z\n",
       "Wimxe/teDg3SOQFiM7ExyslyxbXrMtYYjIMYU2x0HzXGaRwuQ9esyf3DglJ8YiMOkFrFYMIfpU09\n",
       "jcjWB2PWN/eHD+cZ5ss26pnrxaO5W1e5fApzNn/UPvfYC4fxjRWB8zd7YGC/KNxOos1fCrb8zMcR\n",
       "YrbgwmSglWzd3hiHVaHtjIMwEEhSsQOeBJcJz3TvAUygDpEdV17Wtfl4ItDVp9WHC+Ig80LVB73v\n",
       "P17go8IBD3+ZSXg8IvubRH67FNJ9kTpEGAgsCZ2VvlO22vIHFUdWe/+pfqU4zMimtGPK0IMR2BnC\n",
       "s/7JlHu5K6H4Cb2JWXfdpUMqcJKboX9j3HuJP8yTxkq/r4LHe6ex86RhH2lI0l+JDgNdrTbPvUqs\n",
       "8IMJXYmtQUYpnn/Vhh2TvobJXB2vcWWdiTrt7f3x4HlxInhB903/v8mDXFe6PlMWNDx6ozrg5+jg\n",
       "yxb8tdlNVejSxM1v6xAS83ITMtgs2po1Clu+9DO1RW6UdIeUspTUypua9XsRaaw8sW9kVeDXzVnh\n",
       "rfIz205kEkCicKaoQzxU8BnVfRYMLEqmTTQGutoUCfaqQRpgRJdX5HbGEUIO5zW0dDv3OJl6xFft\n",
       "cY3iE5kyl1IjHxyE+wWk00Th6W783+SzlWYoo8a4ECDgHIUE8l5Ho/NMSL18yUDAYhcb9oEAAAG8\n",
       "AZ+MdEN/ABg+7m7CVFovIAEQe8zlLbpYLF3jEQslqvyAyicB/dgiN4axfnlNxevZrJjwVms8MKhq\n",
       "xoiaBqg6f4oGb48O12ZG6eUEuku5C/ecJ3k3wwXaESkpk5juqm2dNikrPL66rLoWKqkeruWHZopg\n",
       "Jm4hXqXXHOlJ1PrRp8RwPpKi0e66VCqCITljs7hwBLvGQHgVuTgkS2rrFW/1J5joews2zLTIbhlC\n",
       "OFiYTw1grSzkRxye0NeYiLZfsFOshdsGD4Uerpwsp+5WHn9tGB0moBxiz6tLW65UT49+gAYPGpdX\n",
       "RkErsFBlkEknzEuajbb+sB2EYD94VlvdvkTVP9rWXmHoBgtnt7kqKiW8/6Ne/z1aEGSquW7MlPjV\n",
       "4GqOv3W6m0znpT1XQmoeCzpdjXrWzUvaJ9FNKo1eQMBmK9U/1r7hrNJ/bTDRhlfXXsc4im1+cGPP\n",
       "605mdjZy1woMD35P37IFbXlG0snSjUMgNRihAQ1+K1vVw0+9vTaFXED62dHdeFbxtYyOelycWc+c\n",
       "5o8GdgzYtRfTKbbrESYlSnD0J3yQNTONhCnzTa24VDA6tZJwKbht55vuZAxpAAABTgGfjmpDfwAY\n",
       "Pu5ury17pAAh0SzTpYQfWUmirn+fMYrsAdIqS/XVodScm1b92NJYjhtbCeHOI5xBwwxXcqpdJ2Gb\n",
       "npbcwsZLJNc3O8RQfStYU8yFhywbqowEQW7AMIezN36wB5x+V7MI+65O7R1tg1u/SPIZvD/M5CRu\n",
       "eN5OFLzfkmWg145O83MZ/P7vCg6cxGJaOakT+OVGxuQOsSSbKflGq76Y6LVuq2GK/Njw/924eTKa\n",
       "h9Lfjm1SC58ZpGgRDY3rY/lOKhhW9P/XfObWSFPKQYGUvwYvJVI5b3xQRKStyB+hZsI+BeGHDTr2\n",
       "OlJ9owDBmJRjD8t3wxP3WIvEy49Y6c1Ba/f0D1EBpYXiVUpB+5z7COUkDsk3BiZhMyaynz363M9F\n",
       "slRKxh2qFJa+Js9J00wr/OQ2hlckqrQ3IapB70KBIQK6sgG8eYJATcEAAAOHQZuQSahBbJlMCCP/\n",
       "/rUqgAKmT9IAHFuGLi1oXdvKNO4miewzMlu8kaeRALqByT4rGwjPVL0dpZueSQdfObHH+9GEeHNV\n",
       "KEbHoOFJ4OaJ5d53+C9H0Ec1U12pVHZBw/z0ILC7JAkT+1i04LE/Bqo336YRkf4onnccjQIKYbp5\n",
       "eakCZEHxjGOP88iZZprtfWdZYIcM3VdyBBwinM1mO/Mh94SgBSkNXXZWAR2xKzAeAtHx85+BA1yk\n",
       "Ndmr8fpiK1PI9FQObN3qSSOZU9/TRwmwiRbYRQCr8s+WrNdXxtmiQM9ypWHDbFMwYqLsc6R+KlmU\n",
       "ZDFgpmeB82dYlegZgZ3fRz3Rh5AwuYwbehBYGrqYoUBh/HCXzxvEi8ocER3mVl13nrIdKWDo25xE\n",
       "F+GNXMdMoQM7F7em+5BTTlOQfZI9iI3s8dKXfq2UHACBBxHN7V7u54rSHeJMlCbP51evWqz+JABp\n",
       "WbIBkeHNjn0el26YgPWPVjpmGgeyuHYgFaW6Ra/3P7/ghnEb65LPi5GUkiVczPolVLx0h9VFVmPs\n",
       "DBUitPcyjTU9kmNpM7C0oDsiklBixzr0sczeGH9S9Fsnm5NdMxc8NT8grBkXrmuACiOc6YaT9FIg\n",
       "F18oXT75d5lq+1eNg4qby1gdcgOxIruAwnt0YovGj/YA737c4pvdXbnxnbx8Q+a0ljfLWeN5D+8e\n",
       "XlcAQOY2CmpIOzaiZGCyJtBVEcx3//B17IJYVZgLXngCJPJ1SvQkr18YEMQzW+7NHwPeKQ64JkwC\n",
       "IQZMbLhpGWRnjf/XE1jwtjDbGA8MGY6YO232fCn8mgghUljujd5lvgIh+m+gbBslcbneaIYrzZWt\n",
       "UyXkqCZG11WWB9JwVIEaAOyxwFo+vAXFaBI9w9Pha5+Bi6Hj1XFtBZi/9/LneAYm209lpUvC1Utg\n",
       "CsQo/Yyu4fW0AxCvdCiMwwgxScP8npzVZb+YifVu310w3jDbXEx49lHA8H7DAgKGlUzxCZMD8fO7\n",
       "KMO28p04iqT1/mAqH3WkWKBczqZtNC+e5d6diyRp0StD96Y2P8wyMU4CwJhjAUuxM9bN9d8amdaT\n",
       "zX+mCK8+wgR7+3pd4i3ecvRfwuDGLIe+ANiOLmKVUXg4YbCDRr13OYzT/LbzOpsPMcd/s0XNFoE/\n",
       "16iOhwRV9PBxGiZv+LyXKmVJ+KwR58Oiwy2T24/bMBrpNz61AAAEFEGbtEnhClJlMCCH//6qVQAF\n",
       "cDY2364AX+81mldGmFOGXOiMa7nDZhiqKcAKu7LC32NQ/z4CZVEwWrh4DYa3vrkuZPVJWXYn4cfy\n",
       "t2zpg2z1yCl4iBXR9K/eZvO+E34EkpsOPfLSixqBX8uiN8MQhXfsF4mqHD8jIwUr/Q25PApNVQkd\n",
       "33s4csHYvwRznZ7zqcGVsE25GHbhvC+1UF4ddjEfniJSY0q7MulQAWRjPILhTXxgodZB7/FYD/hj\n",
       "bIhv+INlj9e2wnVepZ+T5Ox35F+9hHdDoYhwyAbfjb8xrxoM1t3shanSnQIFfoV2gGaSqNnWkloe\n",
       "Kd6MnGk34JIqrnLDeeB5DxRoHOJxA97YHKHOQA5KzP+lSVdeNgndDuCnpcHoRL/HjDxuNpaG601J\n",
       "Bchj+gArKgtHdpFPSX8ANBlT3W1HA8sNqkNVLzFDPgD/oaTmRngDUXzv+8PRpqf1fU44Zn5D025e\n",
       "bFWKBt31otOUqdSQ10/kgRC3EBzt3W/kGAhGaFAgxomFJbyd4ZZx4aV2m71fTHJrmazOP8Z7KTEO\n",
       "rFoF+pHDlArP4Fp21QdagrmDFW3udXmCzwslN+AOVfNWItV9yGUq/fYIlTFL1C376LEI9ASpQV/l\n",
       "vJRt9+4lgXEp2nNT3OU+nnnEyrg3XdU+mRAXq0qTMQvumKgmTI4Fz+Zf5RW8tz7ENQxBzkZycr1a\n",
       "LnEBmyVFSlpREwh7zSnGH+iJEMNiqnk7c/uIvyPtPMslVUYp8kMTKMr/zZfaogvLXx7TzOnpI8A4\n",
       "TeKU9OzF09kAA1p8ERCAcW/I0w6d8RaHey7kylVVjze3Q/RFSWyLCWMcf5nzm6j8j9AbrUGedl4A\n",
       "w3V9KnBnuaNpSizlj9cnvOhWCNwuRDKToIjWYDsH3wny/d/XzQxbk1scxABIg7MMGPvEkuBcf1kI\n",
       "4grQ70WVIVoXm76Iqhv3ct56ktSuE/PCnO83OxghE+V8Lumnb4FOFb9aKZtzWmMAQ6MNRbEMwUri\n",
       "4eCu3zp7OlheJVWJkV6tXRJFn+hU82M+A+96RA+eyxpl6YJH7Xg/MiQAgqJA58zmogMlcguCZA/o\n",
       "CmhmlkExjFg/qkU0ahyH+1VvTDCONfclNb4PXElf8ocgq5PfpfAH9pq6TdrJxgZOIy/xK5kS3yKr\n",
       "BUF1vLDsj0zeDS2lH3jyoueLsizolyih7UISOoFVIQ97fthUryjhYIdbDL9H0SfwmPePSmV+w5b4\n",
       "2+nL/AHDpTYkloSciIyBLVkHxsT+9Ub89ca+wfHm6Gp5kIbl2B9NdbbZ55F2qVaD9uFTDnHO1svD\n",
       "wr0nVIerEWj3vEsTLkVTHj4TwYlJ70gyhZ+RtjLCV211EAWiSzTnKz97pOKxbwekMZGsm2LLvHJ0\n",
       "oAAAAUtBn9JFNEw7/wAQ2ADQKo7G5AVgWgAHCtOWBID6X06Uio61fZQoWZOAoRXG9vSDQC1f6ud0\n",
       "4CQiwX1RbypEehL0fieZScDqzcoN/cjFzTK+NJ4kLIaNhGZiR9RQYnwqUhz0+qIX2YdoOHjvejdi\n",
       "FQoKVaHeW1UT04cvytMrXsQ2ZWw99d6W0ztxZPDuvsz0ar6iHKxRNSktELHt67W5vYBUEXlnXPVX\n",
       "DnDw5Fp+JDvjIakvD2uhxDcZOhZ6YX30hQgWC0CzMdpn2MRkF38/kHSH+Rsfu2Lqi/on7EhbJxkH\n",
       "WjlPP03EOzfA80u99bvqu7TZj6D4CY6jfBJ9C+xiM0TORQ6DhdxNcyisOKTDCVDPHRudi+WsEEkE\n",
       "wJ9zinCdcj7LAcAs1q7nlp/ewhe7FJmt3ZnsPlds+55eRMA9X30LIBjTCU0J/terkBvRAAABLQGf\n",
       "8XRDfwAYPu5uwlWShB7MPIAsPoHxBvGrA7yqat/xCEJcLSN9/VktBKl61Vc+sEjGwV3Da8euDGty\n",
       "rR2zubSq4oEwvXYub5p98B+iOc7YOmiEDETjuhx83jJrWPeRBMN8RICVQkpyIEhpKLwVasBQux1W\n",
       "UU9K1VNPlLpHMtC4Z9BL4JJnaJsjUhy+DXGQ1Rmd6/PF+tms3+aeTOB+hpljqX+htdmhJuWkcVs5\n",
       "WRBhjn/gisZrsfaJF+IIH1vTa1y+hYjxNn5FY/GZcEjCpA4TUO1FgfB6sENJlNGIFJlJbSOUN43N\n",
       "GsSfZwHQwPpNQBRwBfMJctvHBdZwFK9V0dkxGERAdv+3pIKQEX4YMsrUmBhYi9MqEJbXxa7ufdpu\n",
       "pHZSk5wyB9EozSByQekAAADyAZ/zakN/ABg+7m67KstuMLNkAON6BUpbzjUJ6VZs+hya1yjHfphP\n",
       "SeP/2skQ8mpxaONygupp7WRbWOdEB0aXhW0xvDMCt46stN08fXuBj6hQ5N0d961vsOjTIA+sfO2F\n",
       "/CckUHr9xRBlNvCLo9fkgr4qcW7nYqKZfglBoW4BrFt+51em0FT7enAojAOKEUohDVlAZSKpIIeO\n",
       "BeM7+Ep8I5bruRTUeznil7SndvaLJEwMOGYE3qBXU5rIQxvn1zxjM/MleULFN0QVk+wzRpPKVqbu\n",
       "273DW1JUYhAGA09qeAFOuEC2CWfodWPhQTCRKS6yxcAAAAITQZv1SahBaJlMCCP//rUqgAK5lJ5d\n",
       "oAWDXf8fYA1zVxR/8M5Qbs9uKT8Qstmih0t78LIXBSv9VpIERQPfl0g2xzoNTWgwtYpNlUc0BPmV\n",
       "WX4LgxmwzByVAgI+OetCj7YlHEAOpZ6HOEA+jplFmMyR0wCuvxDstWLAC8xtP9N/M3VgOgyGR3dO\n",
       "JpUYq4dO2iRC039BjEBBCrqI7ai67OiNKqvCkSJxFBz1lgpuCF5ltMOanifVyH54Yn1HLMC7AxqE\n",
       "uLz38at8HTeANwl6nURshBHrcyAyBwV939Oo6ft6WdyvgEipbS6mZStAB40SCGZFbcSlLcM8VxiK\n",
       "2TSGP2NoVYkExxP1SI5rpDP7n3+HpKJA1FDR5YDhHdg6F/8g9zdKjrs95uefS06Dmic7aMGCAq62\n",
       "lc0Wu9rEdrtrXNeIKwI7Sdygsx78J7iQjB352E8Z/qZK4MkJeOjpYYll7wSrW6yzNtFj63kBmaTE\n",
       "dwckwEPJCWchmBHWwhY61f+X3GSycFfeJ2HHu+SoaXsAtZ2mMikxSIYmTxuZUw7Grj6g88rlMcPH\n",
       "9+kJgAP1OU/qZX5tMWhkRROBmFVhItz42MOadbe8PXuI5HxEP0hwxJhW8Ms47FKpXNImLkSUVy+S\n",
       "XVsQ1ydKo9lcKoGWPNc3DMS5rb884j1R0zvkZjG8m8U34XAoJiHGdbUSDWD8lkU9y4lSP5eJAAAC\n",
       "y0GaGUnhClJlMCCP//61KoAFcKhgwAcW1mkvpAxVYXUDT0swWsSU7XF2UAJdGFgXAr8//w5rwH0O\n",
       "RR0VKKr1Wujj0S5UtQ+xP+oYqUg0kv7yexrWhvOslhXDd08fH5mp72rt+TuC//FF0IPyghpR9x/f\n",
       "UdizGTqxUUPr3RnRFprQleNF5Ykhy6e5gk64dVfmiOtm90wpb0+n9y+DK5Q/Bs/YKSFjFawuuYA4\n",
       "heC1iBFlVYt3D5r/cf3ET/s1tyzccB/gg01I9p3JT2tVzZNmo6YE7xb479NAOexM8guQS8ZZCWkE\n",
       "U4Obw8ljlmEMU1CgSlHd3PYUDS6nJPXjSmzCVkkX3K1JVEDuntGVAWN/q0KGpV4MMn9g5DUxFDgv\n",
       "xQgw9nvJ0VO/lEjrFKVUZbPlTaCJHOQDUYUUEGtp77eArN9LVo/34iP9Aq3w1EZipcA071ul/zPk\n",
       "pMYZgAY7laFLQU52n8lZeJMdPJhWpKUUUr3ZT/B2Sgdj0DmZKqSvB1ZqAHioi2HF7y/fnatcRaZ5\n",
       "Po5EkKOd3SZ3ggFalyecZDBxChUhp8q5pJsco8uRvzTLSVNem5+VLtkpFPAu2qU1/GOiVPZXDpYA\n",
       "bPp938A9bS3Y6BCRTsO/8LwRFSPS/TyB7NkhWK99pS5G57+Cn7m1CQkT4e06B+FZ11yuD7+RC7gq\n",
       "TaLydopfTRoBuB8dJewGN/ZKguDkpYQFWB+FCmglhOTAELA9R1UH4POEQ2BOCtgIZAvabTEvS7kr\n",
       "1ki4OqWo3uxPRnX17E/u1Xa4pNYBFWA3QcpqKHIfG89uhSU7akPFeTD997uPcK2+Vn0Uv+0Xl7zy\n",
       "qEaFS7TSvprfR+ONd1OopNaQNmP+HgsusgD0vfYLSp6Ko/Q9HZVuSmfMlq79xMnc6NDv63UmSdqx\n",
       "ZQrNG/vri9X09p32biSI+OrIV93Ce59fsBs6jFhDaCAAAADPQZ43RTRMO/8AENgA0CqXO/27flJo\n",
       "ATj+S08azFY7I1/hfNyptqfI0Ab41ZyBbwI4wtKHDSncer0MeFr5RxD1fXZSjHhd/RsbOTUSCc/m\n",
       "xu9GB7nCA4TJw80WsvH81GkLLUDJcT5zpzP/VLB6ulHz4jxv2aH6zlE0G7o4VcEsD182gLVDDgTf\n",
       "kFy8b5H6J6qXIrYIyXdjY+n2R8kvH+F0rtbnPhcyr75nDfmu1uMSuCgoHe+2UoE2l4mycTzB+juP\n",
       "O6+BrD7Z8b4CEi2nVzehAAAAbAGeVnRDfwAds+iec/LjTZZAC6bAzTM3palY2zawTF5TfCXFNM8v\n",
       "HHH1kSQvMI7nwan3CyGqEq8rx+oEjUYkpgULdBGvqB/J7KLO3VAgNYONf5cwlV0kR42rtT0Q0RRX\n",
       "Su3tAE5SGrMKA+ob0QAAADUBnlhqQ38AGD7ua5AsVqnkG7E6r4uPNED4zA6M2sVNRcZCKwXm/2Ct\n",
       "fuuE3xJxGUAkIt4NSAAAAiZBml1JqEFomUwII//+tSqABXCn9oALc5jdnfaquRoZ+P96/73l1WC6\n",
       "ydgQaXKWxLpZyJGCC71SpNazgVTeS2Hsb7egQ+eRDYfYqoxIqkrTjdCphO3XPxzHxh47w4UdXZhL\n",
       "cCr6sSRfwiVizfx6gKKs1VPPIRWaTbbUqgHV4TAKu0wl0rtoUu3QJM2vJew3OMAjvXSLBT3+2d9D\n",
       "kO5dHHT3jl5l6mfEhdd6gq1bVtsMBajBVg7FYh3Vl070r+VcYS6JCRlCQ20s8vR15kMMmHgHOKRF\n",
       "cKxtW/jq2xhsv/gEFWYHlFiVRUnlqJv5sy1uSa2YrDULuK6Qve8V3C2RkPfTo0fvGay8jfYaBW8l\n",
       "TlZxlWLrJXJjQcnrKqrqtfycDRosi8iqpuGQokz/fHdLL666VaoxczX33G+bhbnNtqGO4PHNVPYN\n",
       "qVDvVVRSyT0JOkG9hHP3H4DT8mPED6tfrRnReR6Q/c0Sh41vwY6kpTl7l4MG018Zo7fGefOD7X+s\n",
       "VdayhqTyO9L2GiPDwH0h3wH0NRyMAGuhvYiUjUIXfo8CCDj3h6K0gQCxscRWhY4huCWJzi0Fo4Br\n",
       "AHUuADYrsYXK9+93+b1V8oeBqe75984UhOTDDu7aPL3pMMjJ445KegE++SkOkU0epr+p8gqdF1UE\n",
       "atvUsFBOGev5Ig6O/MLBkWoCsrAuw3mrzt5oig0vbKNcaDumV2GXJDRYAEWtsb/lSykiDsfBAAAA\n",
       "UEGee0URLDv/ABDYANEiI30SoDZN0K4dsIAE0F/7gOpqIh51vltK9w51jVGRvZYtG/iI2AM6DFah\n",
       "4EXj0ZlK8sOIeQIhagAV0vxw3oICSYIGAAAALwGemnRDfwAYfrGOdPQQXFt59tJyVA2/60Vs0bAp\n",
       "wP9plGSJUAZk6sp5AOoYgKGBAAAALAGenGpDfwAYgu1CZqgCUe+s4R/2he8annCEntVpRhT8DGxy\n",
       "zfL0xAV0aQG9AAABH0GagUmoQWyZTAgh//6qVQAK359aABdKJ/e9oswhxrBuHv2++KGMnva6Ws1k\n",
       "XMH5Jppfdlt4D+QhpsqRrUHX15dZOS+pUGc4gkFmq9q/aJ4ZyorLN6F6ZkM5YZqHRUS1YS2UhUmO\n",
       "on6N5/XaDpFelM44cn1u4MwVzXy54N2jAZzUF+O56lWLJl5Aa7rwSfesC8EPFWyt4hXL2xZSWV9C\n",
       "yhHK56IFHS3lh1kJeumwhNUE8R9cOUdjlwV1y5YCb4QqvP3Ejx8Qj5ZROgY1hPWRllTJwj38oXK+\n",
       "HdAbhX+1l0MBVFbz46aCxulnerxDgrvTpgptaxk1Z6iiFQAS5pvdJ6w3wn+6mdeYct7wXOBcWXPs\n",
       "oqMxEJ3VXPY5nyyKAAekAAAAO0Gev0UVLDv/ABEKVHXwddV6a2TQcqzkeVLBAAtb6TdSYuxcYnS8\n",
       "wcbHLMi67gtWtoAmJMIRsgLeSEHTAAAAJgGe3nRDfwAYfrFWRpkwf/2OmCGNGzlW2DHBERQaPNga\n",
       "kDnHFDVhAAAAJAGewGpDfwAYgu1CQMIBffdMbr/xaUzcQKGDhfwauQ0DrXBmQAAAADlBmsVJqEFs\n",
       "mUwIf//+qZYAFTPQQcAFuv0EjBy5x9AiYPJDJES3Jy8PfI0dWaMxjE+IvbRH1uAAl4EAAAAxQZ7j\n",
       "RRUsO/8AEQpUdfCjEILBCNIfaaCsZtVlZud7xo5DAHYVKjJegGFXsMyCunkEzAAAACMBnwJ0Q38A\n",
       "GH6xcEOYJPp3mN6f7IYbOQ/sFpkw1nHakNAFTQAAACQBnwRqQ38AGILtQkDCAX33TG6/8WlM3ECh\n",
       "g4X8GrkNA61wZkEAAAAaQZsHSahBbJlMFEw3//6nhAARVAiHD4AAQcEAAAAuAZ8makN/ABiFNfQk\n",
       "mjut5L7w05Q/fXyLL28HIa6lHPTWh+2ACzJiE5A9SSBdwQAABNdtb292AAAAbG12aGQAAAAAAAAA\n",
       "AAAAAAAAAAPoAAAPoAABAAABAAAAAAAAAAAAAAAAAQAAAAAAAAAAAAAAAAAAAAEAAAAAAAAAAAAA\n",
       "AAAAAEAAAAAAAAAAAAAAAAAAAAAAAAAAAAAAAAAAAAAAAAACAAAEAXRyYWsAAABcdGtoZAAAAAMA\n",
       "AAAAAAAAAAAAAAEAAAAAAAAPoAAAAAAAAAAAAAAAAAAAAAAAAQAAAAAAAAAAAAAAAAAAAAEAAAAA\n",
       "AAAAAAAAAAAAAEAAAAAB9AAAAZAAAAAAACRlZHRzAAAAHGVsc3QAAAAAAAAAAQAAD6AAAAgAAAEA\n",
       "AAAAA3ltZGlhAAAAIG1kaGQAAAAAAAAAAAAAAAAAACgAAACgAFXEAAAAAAAtaGRscgAAAAAAAAAA\n",
       "dmlkZQAAAAAAAAAAAAAAAFZpZGVvSGFuZGxlcgAAAAMkbWluZgAAABR2bWhkAAAAAQAAAAAAAAAA\n",
       "AAAAJGRpbmYAAAAcZHJlZgAAAAAAAAABAAAADHVybCAAAAABAAAC5HN0YmwAAAC0c3RzZAAAAAAA\n",
       "AAABAAAApGF2YzEAAAAAAAAAAQAAAAAAAAAAAAAAAAAAAAAB9AGQAEgAAABIAAAAAAAAAAEAAAAA\n",
       "AAAAAAAAAAAAAAAAAAAAAAAAAAAAAAAAAAAAAAAY//8AAAAyYXZjQwFkABb/4QAZZ2QAFqzZQIAz\n",
       "5+EAAAMAAQAAAwAUDxYtlgEABmjr48siwAAAABx1dWlka2hA8l8kT8W6OaUbzwMj8wAAAAAAAAAY\n",
       "c3R0cwAAAAAAAAABAAAAKAAABAAAAAAUc3RzcwAAAAAAAAABAAAAAQAAARhjdHRzAAAAAAAAACEA\n",
       "AAAIAAAIAAAAAAEAABQAAAAAAQAACAAAAAABAAAAAAAAAAEAAAQAAAAAAQAAFAAAAAABAAAIAAAA\n",
       "AAEAAAAAAAAAAQAABAAAAAABAAAIAAAAAAEAABQAAAAAAQAACAAAAAABAAAAAAAAAAEAAAQAAAAA\n",
       "AQAACAAAAAABAAAUAAAAAAEAAAgAAAAAAQAAAAAAAAABAAAEAAAAAAEAABQAAAAAAQAACAAAAAAB\n",
       "AAAAAAAAAAEAAAQAAAAAAQAAFAAAAAABAAAIAAAAAAEAAAAAAAAAAQAABAAAAAABAAAUAAAAAAEA\n",
       "AAgAAAAAAQAAAAAAAAABAAAEAAAAAAEAAAwAAAAAAQAABAAAAAAcc3RzYwAAAAAAAAABAAAAAQAA\n",
       "ACgAAAABAAAAtHN0c3oAAAAAAAAAAAAAACgAABSpAAACNAAAAyoAAARMAAABygAAAjwAAAJmAAAC\n",
       "NwAABbQAAAGIAAAArgAAAQMAAAQyAAACgQAAAcAAAAFSAAADiwAABBgAAAFPAAABMQAAAPYAAAIX\n",
       "AAACzwAAANMAAABwAAAAOQAAAioAAABUAAAAMwAAADAAAAEjAAAAPwAAACoAAAAoAAAAPQAAADUA\n",
       "AAAnAAAAKAAAAB4AAAAyAAAAFHN0Y28AAAAAAAAAAQAAACwAAABidWR0YQAAAFptZXRhAAAAAAAA\n",
       "ACFoZGxyAAAAAAAAAABtZGlyYXBwbAAAAAAAAAAAAAAAAC1pbHN0AAAAJal0b28AAAAdZGF0YQAA\n",
       "AAEAAAAATGF2ZjU2LjQwLjEwMQ==\n",
       "\">\n",
       "  Your browser does not support the video tag.\n",
       "</video>"
      ],
      "text/plain": [
       "<matplotlib.animation.FuncAnimation at 0x7f351942d390>"
      ]
     },
     "execution_count": 12,
     "metadata": {},
     "output_type": "execute_result"
    }
   ],
   "source": [
    "fig = plt.figure(dpi=100, figsize=(5, 4))\n",
    "plt.scatter(x,y)\n",
    "line, = plt.plot(x,lin(a_guess,b_guess,x))\n",
    "plt.close()\n",
    "\n",
    "def animate(i):\n",
    "    line.set_ydata(lin(a_guess,b_guess,x))\n",
    "    for i in range(10): upd()\n",
    "    return line,\n",
    "\n",
    "ani = animation.FuncAnimation(fig, animate, np.arange(0, 40), interval=100)\n",
    "ani"
   ]
  },
  {
   "cell_type": "code",
   "execution_count": null,
   "metadata": {
    "collapsed": true
   },
   "outputs": [],
   "source": []
  }
 ],
 "metadata": {
  "kernelspec": {
   "display_name": "dl_env",
   "language": "python",
   "name": "dl_env"
  },
  "language_info": {
   "codemirror_mode": {
    "name": "ipython",
    "version": 3
   },
   "file_extension": ".py",
   "mimetype": "text/x-python",
   "name": "python",
   "nbconvert_exporter": "python",
   "pygments_lexer": "ipython3",
   "version": "3.5.3"
  },
  "nav_menu": {},
  "toc": {
   "navigate_menu": true,
   "number_sections": true,
   "sideBar": true,
   "threshold": 6,
   "toc_cell": true,
   "toc_section_display": "block",
   "toc_window_display": false
  },
  "widgets": {
   "state": {},
   "version": "1.1.2"
  }
 },
 "nbformat": 4,
 "nbformat_minor": 1
}
